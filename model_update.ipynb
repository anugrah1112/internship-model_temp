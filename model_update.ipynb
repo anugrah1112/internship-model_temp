{
  "nbformat": 4,
  "nbformat_minor": 0,
  "metadata": {
    "colab": {
      "name": "Naivealgorithmmodel.ipynb",
      "provenance": [],
      "collapsed_sections": []
    },
    "kernelspec": {
      "name": "python3",
      "display_name": "Python 3"
    }
  },
  "cells": [
    {
      "cell_type": "code",
      "metadata": {
        "id": "8GFOtIp55-dD",
        "colab_type": "code",
        "colab": {}
      },
      "source": [
        "dir = \"Malicious URLs.csv\""
      ],
      "execution_count": 31,
      "outputs": []
    },
    {
      "cell_type": "code",
      "metadata": {
        "id": "YSzrPcsD6U0h",
        "colab_type": "code",
        "colab": {}
      },
      "source": [
        "import pandas as pd\n",
        "import numpy as np\n",
        "import matplotlib.pyplot as plt\n",
        "import random\n",
        "import re\n",
        "from sklearn.model_selection import train_test_split\n",
        "from sklearn.feature_extraction.text import TfidfVectorizer, CountVectorizer\n",
        "from sklearn.linear_model import LogisticRegression\n",
        "from sklearn.naive_bayes import MultinomialNB\n",
        "from sklearn.metrics import confusion_matrix, classification_report\n",
        "import seaborn as sns"
      ],
      "execution_count": 32,
      "outputs": []
    },
    {
      "cell_type": "code",
      "metadata": {
        "id": "f9-E2sUM6iCM",
        "colab_type": "code",
        "colab": {}
      },
      "source": [
        "data = pd.read_csv(dir)\n",
        "test_url = data['URLs'][1]"
      ],
      "execution_count": 33,
      "outputs": []
    },
    {
      "cell_type": "code",
      "metadata": {
        "id": "JNdZbMD66wOo",
        "colab_type": "code",
        "colab": {
          "base_uri": "https://localhost:8080/",
          "height": 195
        },
        "outputId": "9be90a6d-a6d7-447a-cc9a-cdcfe6f1699d"
      },
      "source": [
        "data.head()"
      ],
      "execution_count": 34,
      "outputs": [
        {
          "output_type": "execute_result",
          "data": {
            "text/html": [
              "<div>\n",
              "<style scoped>\n",
              "    .dataframe tbody tr th:only-of-type {\n",
              "        vertical-align: middle;\n",
              "    }\n",
              "\n",
              "    .dataframe tbody tr th {\n",
              "        vertical-align: top;\n",
              "    }\n",
              "\n",
              "    .dataframe thead th {\n",
              "        text-align: right;\n",
              "    }\n",
              "</style>\n",
              "<table border=\"1\" class=\"dataframe\">\n",
              "  <thead>\n",
              "    <tr style=\"text-align: right;\">\n",
              "      <th></th>\n",
              "      <th>URLs</th>\n",
              "      <th>Class</th>\n",
              "    </tr>\n",
              "  </thead>\n",
              "  <tbody>\n",
              "    <tr>\n",
              "      <th>0</th>\n",
              "      <td>freebase.com/view/en/bob_sirois</td>\n",
              "      <td>good</td>\n",
              "    </tr>\n",
              "    <tr>\n",
              "      <th>1</th>\n",
              "      <td>en.wikipedia.org/wiki/Joie_Lee</td>\n",
              "      <td>good</td>\n",
              "    </tr>\n",
              "    <tr>\n",
              "      <th>2</th>\n",
              "      <td>pipl.com/directory/people/Rejean/Beaudin</td>\n",
              "      <td>good</td>\n",
              "    </tr>\n",
              "    <tr>\n",
              "      <th>3</th>\n",
              "      <td>flickr.com/photos/teneyck/sets/72157610336209297/</td>\n",
              "      <td>good</td>\n",
              "    </tr>\n",
              "    <tr>\n",
              "      <th>4</th>\n",
              "      <td>ussoccer.com/News/Federation-Services/2009/06/...</td>\n",
              "      <td>good</td>\n",
              "    </tr>\n",
              "  </tbody>\n",
              "</table>\n",
              "</div>"
            ],
            "text/plain": [
              "                                                URLs Class\n",
              "0                    freebase.com/view/en/bob_sirois  good\n",
              "1                     en.wikipedia.org/wiki/Joie_Lee  good\n",
              "2           pipl.com/directory/people/Rejean/Beaudin  good\n",
              "3  flickr.com/photos/teneyck/sets/72157610336209297/  good\n",
              "4  ussoccer.com/News/Federation-Services/2009/06/...  good"
            ]
          },
          "metadata": {
            "tags": []
          },
          "execution_count": 34
        }
      ]
    },
    {
      "cell_type": "code",
      "metadata": {
        "id": "GC15QxeX7fEa",
        "colab_type": "code",
        "colab": {}
      },
      "source": [
        "train_df, test_df = train_test_split(data, test_size=0.2, random_state=20)\n",
        "labels = train_df['Class']\n",
        "test_labels = test_df['Class']"
      ],
      "execution_count": 35,
      "outputs": []
    },
    {
      "cell_type": "code",
      "metadata": {
        "id": "wFoA8ecF8HtX",
        "colab_type": "code",
        "colab": {
          "base_uri": "https://localhost:8080/",
          "height": 543
        },
        "outputId": "6d66194d-2693-4bb8-e911-05595a26efff"
      },
      "source": [
        "count_train_cl = pd.value_counts(train_df['Class'])\n",
        "count_train_cl.plot(kind='bar', fontsize=10)\n",
        "plt.show()\n",
        "\n",
        "count_test_cl = pd.value_counts(test_df['Class'])\n",
        "count_test_cl.plot(kind='bar', fontsize=10, colormap='Accent')\n",
        "plt.show()\n"
      ],
      "execution_count": 36,
      "outputs": [
        {
          "output_type": "display_data",
          "data": {
            "image/png": "[encoded data removed]",
            "text/plain": [
              "<Figure size 432x288 with 1 Axes>"
            ]
          },
          "metadata": {
            "tags": [],
            "needs_background": "light"
          }
        },
        {
          "output_type": "display_data",
          "data": {
            "image/png": "[encoded data removed]",
            "text/plain": [
              "<Figure size 432x288 with 1 Axes>"
            ]
          },
          "metadata": {
            "tags": [],
            "needs_background": "light"
          }
        }
      ]
    },
    {
      "cell_type": "code",
      "metadata": {
        "id": "MgJvf4ai8lZP",
        "colab_type": "code",
        "colab": {}
      },
      "source": [
        "def tokenizer(url):\n",
        "  tokens = re.split('[/-]', url)\n",
        "  for i in tokens:\n",
        "    if i.find(\".\") >=0:\n",
        "      dot_split = i.split('.')\n",
        "      if \"com\" in dot_split:\n",
        "        dot_split.remove(\"com\")\n",
        "      if \"www\" in dot_split:\n",
        "        dot_split.remove(\"www\")\n",
        "      tokens += dot_split\n",
        "  return tokens        "
      ],
      "execution_count": 37,
      "outputs": []
    },
    {
      "cell_type": "code",
      "metadata": {
        "id": "P3engjPk-11L",
        "colab_type": "code",
        "colab": {}
      },
      "source": [
        "tokenized_url = tokenizer(test_url)"
      ],
      "execution_count": 38,
      "outputs": []
    },
    {
      "cell_type": "code",
      "metadata": {
        "id": "KyBG-d08_tE1",
        "colab_type": "code",
        "colab": {
          "base_uri": "https://localhost:8080/",
          "height": 34
        },
        "outputId": "6e0d422d-775d-4d7e-9e8c-81d21a21fa6b"
      },
      "source": [
        "print(tokenized_url)"
      ],
      "execution_count": 39,
      "outputs": [
        {
          "output_type": "stream",
          "text": [
            "['en.wikipedia.org', 'wiki', 'Joie_Lee', 'en', 'wikipedia', 'org']\n"
          ],
          "name": "stdout"
        }
      ]
    },
    {
      "cell_type": "code",
      "metadata": {
        "id": "gWXVUAfcEI6T",
        "colab_type": "code",
        "colab": {}
      },
      "source": [
        "#vectorizer\n",
        "#count vectorizer\n",
        "cv = CountVectorizer(tokenizer=tokenizer)\n",
        "count_X = cv.fit_transform(train_df['URLs'])\n",
        "\n",
        "#tf-idf vectorizer\n",
        "tv = TfidfVectorizer(tokenizer=tokenizer)\n",
        "tfidf_X = tv.fit_transform(train_df['URLs'])\n",
        "\n",
        "#vectorizing done"
      ],
      "execution_count": 40,
      "outputs": []
    },
    {
      "cell_type": "code",
      "metadata": {
        "id": "tgJcg-9cFh0M",
        "colab_type": "code",
        "colab": {}
      },
      "source": [
        "test_count_X = cv.transform(test_df['URLs'])\n",
        "test_tfidf_X = tv.transform(test_df['URLs'])\n",
        "\n",
        "#vectorizing the test data"
      ],
      "execution_count": 41,
      "outputs": []
    },
    {
      "cell_type": "code",
      "metadata": {
        "id": "EOrblEhRGRlR",
        "colab_type": "code",
        "colab": {}
      },
      "source": [
        "def generate_report(cmatrix, score, creport):\n",
        "\n",
        "  \n",
        "  \n",
        "  cmatrix = cmatrix.T\n",
        "  \n",
        "  # Generate confusion matrix heatmap\n",
        "  plt.figure(figsize=(5,5))\n",
        "  sns.heatmap(cmatrix, \n",
        "              annot=True, \n",
        "              fmt=\"d\", \n",
        "              linewidths=.5, \n",
        "              square = True, \n",
        "              cmap = 'Blues', \n",
        "              annot_kws={\"size\": 16}, \n",
        "              xticklabels=['bad', 'good'],\n",
        "              yticklabels=['bad', 'good'])\n",
        "\n",
        "  plt.xticks(rotation='horizontal', fontsize=16)\n",
        "  plt.yticks(rotation='horizontal', fontsize=16)\n",
        "  plt.xlabel('Actual Label', size=20);\n",
        "  plt.ylabel('Predicted Label', size=20);\n",
        "\n",
        "  title = 'Accuracy Score: {0:.4f}'.format(score)\n",
        "  plt.title(title, size = 20);\n",
        "\n",
        "  # Display classification report and confusion matrix\n",
        "  print(creport)\n",
        "  plt.show()\n",
        "  "
      ],
      "execution_count": 42,
      "outputs": []
    },
    {
      "cell_type": "markdown",
      "metadata": {
        "id": "PoN5-b24LThl",
        "colab_type": "text"
      },
      "source": [
        "NOTE, YOU CAN DEPLOY ANY OF THE MODEL,\n",
        "JUST TRY TO INCREASE ACCURACY OF ANY OF THE MODEL"
      ]
    },
    {
      "cell_type": "code",
      "metadata": {
        "id": "AX4FQ7FMI5fH",
        "colab_type": "code",
        "colab": {
          "base_uri": "https://localhost:8080/",
          "height": 474
        },
        "outputId": "f10541df-1f3f-42fe-fc63-a7690a60387e"
      },
      "source": [
        "#training the model with Multinomial Naive Bayesian with Count Vectorizer\n",
        "mnb_count = MultinomialNB()\n",
        "mnb_count.fit(count_X, labels)\n",
        "\n",
        "score_mnb_count = mnb_count.score(test_count_X, test_labels)\n",
        "predictions_mnb_count = mnb_count.predict(test_count_X)\n",
        "cmatrix_mnb_count = confusion_matrix(test_labels, predictions_mnb_count)\n",
        "creport_mnb_count = classification_report(test_labels, predictions_mnb_count)\n",
        "generate_report(cmatrix_mnb_count, score_mnb_count, creport_mnb_count)\n"
      ],
      "execution_count": 43,
      "outputs": [
        {
          "output_type": "stream",
          "text": [
            "              precision    recall  f1-score   support\n",
            "\n",
            "         bad       0.97      0.90      0.93     15085\n",
            "        good       0.98      0.99      0.99     69008\n",
            "\n",
            "    accuracy                           0.98     84093\n",
            "   macro avg       0.98      0.95      0.96     84093\n",
            "weighted avg       0.98      0.98      0.98     84093\n",
            "\n"
          ],
          "name": "stdout"
        },
        {
          "output_type": "display_data",
          "data": {
            "image/png": "[encoded data removed]",
            "text/plain": [
              "<Figure size 360x360 with 2 Axes>"
            ]
          },
          "metadata": {
            "tags": [],
            "needs_background": "light"
          }
        }
      ]
    },
    {
      "cell_type": "code",
      "metadata": {
        "id": "7EeG06hxMwiR",
        "colab_type": "code",
        "colab": {
          "base_uri": "https://localhost:8080/",
          "height": 34
        },
        "outputId": "428d34e2-69e9-403e-fc96-10766022e09a"
      },
      "source": [
        ""
      ],
      "execution_count": 52,
      "outputs": [
        {
          "output_type": "stream",
          "text": [
            "the url predicted seems to be  ['bad']\n"
          ],
          "name": "stdout"
        }
      ]
    },
    {
      "cell_type": "code",
      "metadata": {
        "id": "_88IGcvUJhcO",
        "colab_type": "code",
        "colab": {
          "base_uri": "https://localhost:8080/",
          "height": 474
        },
        "outputId": "677dd427-9003-4bac-f446-242bd6ef66b5"
      },
      "source": [
        "#training the model with Multinomial Naive Bayesian with tfidf\n",
        "mnb_tfidf = MultinomialNB()\n",
        "mnb_tfidf.fit(tfidf_X, labels)\n",
        "\n",
        "score_mnb_tfidf = mnb_tfidf.score(test_tfidf_X, test_labels)\n",
        "predictions_mnb_tfidf = mnb_tfidf.predict(test_tfidf_X)\n",
        "cmatrix_mnb_tfidf = confusion_matrix(test_labels, predictions_mnb_tfidf)\n",
        "creport_mnb_tfidf = classification_report(test_labels, predictions_mnb_tfidf)\n",
        "generate_report(cmatrix_mnb_tfidf, score_mnb_tfidf, creport_mnb_tfidf)"
      ],
      "execution_count": 53,
      "outputs": [
        {
          "output_type": "stream",
          "text": [
            "              precision    recall  f1-score   support\n",
            "\n",
            "         bad       0.99      0.83      0.90     15085\n",
            "        good       0.96      1.00      0.98     69008\n",
            "\n",
            "    accuracy                           0.97     84093\n",
            "   macro avg       0.98      0.91      0.94     84093\n",
            "weighted avg       0.97      0.97      0.97     84093\n",
            "\n"
          ],
          "name": "stdout"
        },
        {
          "output_type": "display_data",
          "data": {
            "image/png": "[encoded data removed]",
            "text/plain": [
              "<Figure size 360x360 with 2 Axes>"
            ]
          },
          "metadata": {
            "tags": [],
            "needs_background": "light"
          }
        }
      ]
    },
    {
      "cell_type": "code",
      "metadata": {
        "id": "CjHr5oPqLKt2",
        "colab_type": "code",
        "colab": {
          "base_uri": "https://localhost:8080/",
          "height": 50
        },
        "outputId": "71b21f1e-cc32-4809-dc10-00eece80d0c3"
      },
      "source": [
        "input_url = [\"www.namecheck.com/phishing-check/\"]\n",
        "\n",
        "predic_test = cv.transform(input_url)\n",
        "predic_test_tfidf = tv.transform(input_url)\n",
        "y = mnb_count.predict(predic_test)\n",
        "\n",
        "print(\"the url predicted seems to be \",y)\n",
        "z = mnb_tfidf.predict(predic_test_tfidf)\n",
        "print(\"the url predicted seems to be \",z)"
      ],
      "execution_count": 72,
      "outputs": [
        {
          "output_type": "stream",
          "text": [
            "the url predicted seems to be  ['good']\n",
            "the url predicted seems to be  ['good']\n"
          ],
          "name": "stdout"
        }
      ]
    },
    {
      "cell_type": "code",
      "metadata": {
        "id": "u-V5eNKwQ2Ol",
        "colab_type": "code",
        "colab": {}
      },
      "source": [
        ""
      ],
      "execution_count": 54,
      "outputs": []
    }
  ]
}